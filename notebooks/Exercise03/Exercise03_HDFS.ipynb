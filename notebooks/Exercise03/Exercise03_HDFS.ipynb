{
 "cells": [
  {
   "cell_type": "markdown",
   "metadata": {},
   "source": [
    "# <center>Big Data &ndash; Exercises</center>\n",
    "## <center>Fall 2023 &ndash; Week 3 &ndash; ETH Zurich</center>"
   ]
  },
  {
   "cell_type": "markdown",
   "metadata": {},
   "source": [
    "## Introduction\n",
    "This week we will cover mostly theoretical aspects of Hadoop and HDFS and we will discuss advantages and limitations of different storage models.\n",
    "\n",
    "#### What is Hadoop?\n",
    "Hadoop provides a **distributed file system** and a\n",
    "**framework for the analysis and transformation** of very **large**\n",
    "data sets using the MapReduce paradigm.\n",
    "\n",
    "Several components are part of this framework. In this course you will study HDFS, MapReduce and HBase while this exercise focuses on HDFS and storage models.\n",
    "\n",
    "\n",
    "| *Component*                |*Description*  |*First developer*  |\n",
    "|----------------------------------------------|---|---|\n",
    "| **HDFS**                  |Distributed file system  |Yahoo!  |\n",
    "| **MapReduce**   |Distributed computation framework   |Yahoo!  |\n",
    "| **HBase**           | Column-oriented table service  |Powerset (Microsoft)  |\n",
    "| Pig  | Dataflow language and parallel execution framework  |Yahoo!   |\n",
    "| Hive            |Data warehouse infrastructure   |Facebook  |\n",
    "| ZooKeeper    |Distributed coordination service   |Yahoo!  |\n",
    "| Chukwa  |System for collecting management data   |Yahoo!  |\n",
    "| Avro                |Data serialization system   |Yahoo! + Cloudera  |"
   ]
  },
  {
   "cell_type": "markdown",
   "metadata": {},
   "source": [
    "## 1. The Hadoop Distributed File System\n",
    "### 1.1 &ndash; State which of the following statements are true:\n",
    "\n",
    "1. The HDFS namespace is a hierarchy of files and directories: **True**\n",
    "    \n",
    "1. In HDFS, each block of the file is either 64 or 128 megabytes depending on the version and distribution of Hadoop in use, and this *cannot* be changed: **False**\n",
    "\n",
    "1. A client wanting to write a file into HDFS, first contacts the NameNode, then sends the data to it. The NameNode will write the data into multiple DataNodes in a pipelined fashion: **False**\n",
    "\n",
    "1. A DataNode may execute multiple application tasks for different clients concurrently: **True**\n",
    "    \n",
    "1. The cluster can have thousands of DataNodes and tens of thousands of HDFS clients per cluster: **True**\n",
    "    \n",
    "1. HDFS NameNodes keep the namespace both ~~RAM~~ in DRAM and on disk: **True**\n",
    "    \n",
    "1. The locations of block replicas are part of the persistent checkpoint that the NameNode stores in its ~~native~~ local file system: **False**\n",
    "    \n",
    "1. If the block size is set to 64 megabytes, storing a file of 80 megabytes will actually require 128 megabytes of physical memory (2 blocks of 64 megabytes each): **False**\n",
    "\n",
    "**Solution:**\n",
    "\n",
    "1. True, in contrast with the Object Storage logic model, HDFS is designed to handle a relatively small amount of huge files. A hierarchical file system can therefore be handled efficiently by a single NameNode.\n",
    "\n",
    "1. False, the default size is either 64 or 128 megabytes but this can be easily changed in the configuration.\n",
    "\n",
    "1. False, the client writes data to the DataNodes. No data goes through the NameNode.\n",
    "\n",
    "1. True, each DataNode may execute multiple application tasks concurrently.\n",
    "\n",
    "1. True, since each DataNode can execute multiple tasks concurrently, there may be more clients than DataNodes.\n",
    "\n",
    "1. True, and an image of such namespace is also persisted on disk.\n",
    "\n",
    "1. False, the locations of block replicas may change over time and are not part of the persistent checkpoint.\n",
    "\n",
    "1. False, the size of the data file equals the actual length of the block and does not require extra space to round it up to the nominal block size as in traditional file systems. Therefore 80 megabytes will be stored as a block of 64 megabytes + a block of 16 megabytes."
   ]
  },
  {
   "cell_type": "markdown",
   "metadata": {
    "tags": [],
    "toc-hr-collapsed": true
   },
   "source": [
    "### 1.2 &ndash; A typical filesystem block size is 4096 bytes. How large is a block in HDFS? List at least two advantages of such choice."
   ]
  },
  {
   "cell_type": "markdown",
   "metadata": {},
   "source": [
    "**Answer:**\n",
    "\n",
    "It goes up to 64-128 MB.\n",
    "\n",
    "1. Minimizes the cost of seeks. If the block is large enough, the time it takes to transfer the data from the disk can be significantly longer than the time to seek the start of the block. Thus, the threshold is the disk transfer rate (hardware) instead of the time to find the blocks if they were smaller.\n",
    "2. It reduces interactions between the Namenode and the client. Since the client needs to ask for each block's location, making them bigger will decrease the workload of the Namenode.\n",
    "3. Reduces the size of the metadata needed to store the block's location on the Namenode."
   ]
  },
  {
   "cell_type": "markdown",
   "metadata": {},
   "source": [
    "### 1.3 &ndash; How does the hardware cost grow as function of the amount of data we need to store in a Distributed File System such as HDFS? Why?"
   ]
  },
  {
   "cell_type": "markdown",
   "metadata": {},
   "source": [
    "**Answer:**\n",
    "\n",
    "Linearly: As we don't need expansive hardware, the cost grows only linearly to the amount of data we need (Scaling out). Say each harware can store N data blocks and we need R replicas. If our machines are full and we want to store X more data, we need R * (N/X) more machines."
   ]
  },
  {
   "cell_type": "markdown",
   "metadata": {},
   "source": [
    "### 1.4 &ndash; Single Point of Failure\n",
    "\n",
    "1. Which component is the main single point of failure in Hadoop?\n",
    "\n",
    "1. What is the Secondary NameNode?"
   ]
  },
  {
   "cell_type": "markdown",
   "metadata": {},
   "source": [
    "**Answer:**\n",
    "\n",
    "1. Namenode resulting in server unavailability. Any loss of Datanodes doesn't cause any problem since we have replicas stored.\n",
    "\n",
    "2. The Backupnode."
   ]
  },
  {
   "cell_type": "markdown",
   "metadata": {},
   "source": [
    "### 1.5 &ndash; Scalability, Durability and Performance on HDFS\n",
    "Explain how HDFS accomplishes the following requirements:\n",
    "\n",
    "1. Scalability\n",
    "\n",
    "1. Durability\n",
    "\n",
    "1. High sequential read/write performance"
   ]
  },
  {
   "cell_type": "markdown",
   "metadata": {},
   "source": [
    "**Answer:**\n",
    "\n",
    "1. Scalability: Namenode only stores metadata which is linear for an increase of data storage. Larger file size is not a problem since we partition the files into blocks of the same size. And finally an increase of data storage is linearly scalable by adding more Datanodes.\n",
    "\n",
    "2. Durability: Since we store replicas of each blocks, through time an failure of one Datanode does not cause any problem since we have replicas stored in other Datanodes.\n",
    "\n",
    "3. High sequential read/write performance:\n",
    "    1. Client reads/writes directly to the Datanode.\n",
    "    2. Datanodes can execute multiple task in parallel.\n",
    "    3. Size of the Datanodes."
   ]
  },
  {
   "cell_type": "markdown",
   "metadata": {},
   "source": [
    "## 2. File I/O operations and replica management.\n",
    "\n",
    "\n",
    "### 2.1 &ndash; Replication policy\n",
    "Assume your HDFS cluster is made of 3 racks, each containing 3 DataNodes. Assume also the HDFS is configured to use a block size of 100 megabytes and that a client is connecting from outside the datacenter (therefore no DataNode is priviledged). \n",
    "\n",
    "1. The client uploads a file of 150 megabytes. Draw in the picture below a possible blocks configuration according to the default HDFS replica policy. How many replicas are there for each block? Where are these replicas stored?\n",
    "\n",
    "1. Can you find a different policy that, using the same number of replicas, improves the expected availability of a block? Does your solution show any drawbacks?\n",
    "\n",
    "1. Referring to the picture below, assume a block is stored in Node 3, as well as in Node 4 and Node 5. If this block of data has to be processed by a task running on Node 6, which of the three replicas will be actually read by Node 6? \n",
    "\n",
    "<img src=\"https://polybox.ethz.ch/index.php/s/lRzwDdtmytzyDRR/download\" width=\"500\">"
   ]
  },
  {
   "cell_type": "markdown",
   "metadata": {},
   "source": [
    "**Answer:**\n",
    "\n",
    "1. One replica in the same node or a random node. 2 node in a different rack (but both in the same rack).\n",
    "2. Store the 3 replicas in 3 different rack. Drawbacks, writing pipeline is longer.\n",
    "3. The one on node 4 or 5."
   ]
  },
  {
   "cell_type": "markdown",
   "metadata": {},
   "source": [
    "### 2.2 &ndash; File read and write data flow.\n",
    "To get an idea of how data flows between the client interacting with HDFS, consider a diagram below which shows main components of HDFS. \n",
    "\n",
    "<img src=\"https://polybox.ethz.ch/index.php/s/R7hg8x7YEyTFPvD/download\" width=\"600\">\n",
    "\n",
    "1. Draw the main sequence of events when a client copies a file to HDFS.\n",
    "2. Draw the main sequence of events when a client reads a file from HDFS.\n",
    "3. Why do you think a client writes data directly to datanodes instead of sending it through the namenode?"
   ]
  },
  {
   "cell_type": "markdown",
   "metadata": {},
   "source": [
    "**Answer:**\n",
    "\n",
    "1. Sequence of events:\n",
    "    1. Client asks the Namenode to create a file (Not sure since it copies)\n",
    "    2. Client asks the Namenode for the list of Datanodes to write the ith block of the file and its replicas.\n",
    "    3. Namenode replies with the list of Datanodes for block i.\n",
    "    4. The Client organize the pipeline and sends the block i to the first Datanode of the pipeline.\n",
    "    5. The Datanodes in the pipeline starts writing the file in order. Once all datanodes replied to the writing, the first Datanode replies to the Client with ack of writing.\n",
    "    6. The Client asks the Namenode to close the file and release the lock.\n",
    "    7. Namenode listens to heartbeat and check if minimum replication is done.\n",
    "    8. The Namenode replies to the Client with ack closed.\n",
    "\n",
    "<img src=\"https://polybox.ethz.ch/index.php/s/CvO26FssBV8eQ2M/download\" width=\"500\">\n",
    "\n",
    "\n",
    "2. Sequence of events:\n",
    "    1. Client asks the Namenode to read a file.\n",
    "    2. The Namenode replies with the list of blocks and the location of each replica thanks to the block reports.\n",
    "    3. The Client reads each block from closest Datanode.\n",
    "\n",
    "<img src=\"https://polybox.ethz.ch/index.php/s/zxoqGqIIpvAg3Qv/download\" width=\"500\">\n",
    "\n",
    "\n",
    "3. To reduce computation and workload on the unique Namenode of the cluster."
   ]
  },
  {
   "cell_type": "markdown",
   "metadata": {},
   "source": [
    "### 2.3 &ndash; Network topology.\n",
    "HDFS estimates the network bandwidth between two nodes by their distance. The distance from a node to its parent node is assumed to be one. A distance between two nodes can be calculated by summing up thier distances to their closest common ancestor. A shorter distance between two nodes means that the greater bandwidth they can utilize to transfer data. Consider a diagram of a possible hadoop cluster over two datacenters below. \n",
    "\n",
    "<img src=\"https://polybox.ethz.ch/index.php/s/Mk2kI7dkKZNrxul/download\" width=\"700\">\n",
    "\n",
    "Calculate following distances using the distance rule explained above:\n",
    "1. Node 0 and Node 1\n",
    "2. Node 0 and Node 2\n",
    "3. Node 1 and Node 4\n",
    "4. Node 4 and Node 5\n",
    "5. Node 2 and Node 3\n",
    "6. Two processes of Node 1"
   ]
  },
  {
   "cell_type": "markdown",
   "metadata": {},
   "source": [
    "**Answer:**\n",
    "\n",
    "1. Node 0 and Node 1: 2\n",
    "2. Node 0 and Node 2: 4\n",
    "3. Node 1 and Node 4: 6\n",
    "4. Node 4 and Node 5: 4\n",
    "5. Node 2 and Node 3: 2\n",
    "6. Two processes of Node 1: 0"
   ]
  },
  {
   "cell_type": "markdown",
   "metadata": {},
   "source": [
    "## 3. Storage models\n",
    "### 3.1 &ndash; List two differences between Object Storage and Block Storage."
   ]
  },
  {
   "cell_type": "markdown",
   "metadata": {},
   "source": [
    "**Answer:**\n",
    "\n",
    "1. Object Storage store the whole file as it is without breaking it into blocks while Block Storage partition the file into multiple blocks.\n",
    "2. Object Storage has limit on the file size since it cannot partition it into blocks while Block Storage dont.\n",
    "3. Object Storage provides only key-value access while Block Storage provides file storage API."
   ]
  },
  {
   "cell_type": "markdown",
   "metadata": {},
   "source": [
    "### 3.2 &ndash; Compare Object Storage and Block Storage. For each of the following use cases, say which technology better fits the requirements.\n",
    "\n",
    "1. Store Netflix movie files in such a way they are accessible from many client applications at the same time [ *Object storage | Block Storage* ]\n",
    "\n",
    "1. Store experimental and simulation data from CERN [ *Object storage | Block Storage* ]\n",
    "\n",
    "1. Store the auto-backups of iPhone/Android devices [ *Object storage | Block Storage* ]"
   ]
  },
  {
   "cell_type": "markdown",
   "metadata": {},
   "source": [
    "**Answer:**\n",
    "\n",
    "1. For this we need high availability on request for better user experience. And since size of movies should be around 5G, we don't need Block Storage: **Object Storage**.\n",
    "\n",
    "2. Cern has huge amount of data and would need file hierarchy: **Block Storage**.\n",
    "\n",
    "3. When reading back-ups, we usually don't need specific file access: **Object Storage**."
   ]
  },
  {
   "cell_type": "markdown",
   "metadata": {},
   "source": [
    "## 4. Working with Docker-Hadoop\n",
    "\n",
    "Build and run the Hadoop docker image by `docker-compose up -d` in the `exercise03` directory. If completed successfully, you should be able to browse [`http://localhost:9870/`](http://localhost:9870/) and visualize the web interface of the daemon which should look similar to the following image. In the `Datanodes` tab you should see a single operating datanode.\n",
    "\n",
    "<img src=\"https://polybox.ethz.ch/index.php/s/LpWcGWZeU5mipBK/download\" width=\"800\">\n",
    "\n",
    "\n",
    "### Connecting to containers  \n",
    "\n",
    "Each Hadoop cluster is set up in one of the three supported modes:\n",
    "\n",
    "- Local (Standalone) Mode\n",
    "- Pseudo-Distributed Mode\n",
    "- Fully-Distributed Mode\n",
    "\n",
    "By default Hadoop runs in Local Mode but we will run it in the *Pseudo-Distributed Mode*. This will allow you to run Hadoop on a single-node (your computer) simulating a distributed file system, with datanode and namenode running in separate containers. For this excercise you will only need to connect to `namenode` and `datanode` containers. To connect to namenode container can use the Docker dashboard interface by navigating to `docker-hadoop` app, and selecting `CLI` option from the `namenode` container (see image below).\n",
    "\n",
    "<img src=\"https://polybox.ethz.ch/index.php/s/Hdlyhagx3JWbLBy/download\" width=\"700\">\n",
    "\n",
    "Alternatively, you can run `docker exec -it namenode /bin/bash` in a terminal. To connect to a datanode, you can similarly find it in the dashboard or run `docker exec -it namenode /bin/bash` in the terminal. Both approaches will give you shell access on the corresponding container. "
   ]
  },
  {
   "cell_type": "markdown",
   "metadata": {},
   "source": [
    "### 4.1 &ndash; Upload a file into HDFS\n",
    "\n",
    "Connect to the namenode by `docker exec -it namenode /bin/bash`.\n",
    "\n",
    "Pick an image file in your computer (or you can also download a random one) and try to upload it to HDFS. You may need to create an empty directory before uploading. (Check [here](https://hadoop.apache.org/docs/current/hadoop-project-dist/hadoop-common/FileSystemShell.html) for help.)\n",
    "\n",
    "1. Which command do you use to upload from the local file system to HDFS?\n",
    "\n",
    "1. Which information can you find if you use `Utilities -> Browse the file system` in the daemon web interface?"
   ]
  },
  {
   "cell_type": "markdown",
   "metadata": {},
   "source": [
    "**Answers:**\n",
    "\n",
    "1. Commands:\n",
    "    1. First copy the image from your host system to the namenode container:\n",
    "        ```sh\n",
    "        docker cp sample.png namenode:/tmp/sample.png\n",
    "        ```\n",
    "\n",
    "    2. Access the Namenode's container's command line:\n",
    "        ```sh\n",
    "        docker exec -it namenode /bin/bash\n",
    "        ```\n",
    "\n",
    "    3. Create an empty folder:\n",
    "        ```sh\n",
    "        hdfs dfs -mkdir /images\n",
    "        ```\n",
    "    4. Upload the image to this directory in HDFS:\n",
    "        ```sh\n",
    "        hdfs dfs -put /tmp/sample.png /images/\n",
    "        ```\n",
    "\n",
    "2. \n",
    "    | Permission  | Owner | Group      | Size    | Last Modified | Replication | Block Size | Name       |\n",
    "    |-------------|-------|------------|---------|---------------|-------------|------------|------------|\n",
    "    | -rw-r--r--  | root  | supergroup | 1.38 MB | Oct 22 18:14  | 1           | 128 MB     | sample.jpg |\n"
   ]
  },
  {
   "cell_type": "markdown",
   "metadata": {},
   "source": [
    "### 4.2 &ndash; Local File System\n",
    "\n",
    "1. ```bash\n",
    "   docker cp docker-compose.yml namenode:docker-compose.yml \n",
    "   ```\n",
    "Then, use HDFS commands to create a directory, copy the `docker-compose.yml` file from your local file system to HDFS. Use `cat` to check if the file is the same on the local and distributed systems. \n",
    "\n",
    "   *Hint:* you may use the following HDFS commands `-mkdir` for directory, `-copyFromLocal` for uploading the file, and `-cat` for printing them. You may have to first use `docker cp` to copy to file into the namenode container.\n",
    "\n",
    "2. Try to locate the file on a datanode. To connect to a datanode by running:\n",
    "\n",
    "   ```bash\n",
    "   docker exec -it datanode /bin/bash\n",
    "   ```\n",
    "\n",
    "   This will give you shell access to the data node machine. cd into `/hadoop/dfs/data/current/` directory and follow the directories until there are only files. Can you check if the file contents are the same as the one you uploaded? Use `ls -l` to check the size of the file size on the local \n",
    "\n",
    "3. Now try to upload a file to HDFS that is ~150MB. On Unix-based system you can also generate such a file filled with zero using:\n",
    "\n",
    "   ```bash\n",
    "   dd if=/dev/zero of=zeros.dat bs=1M count=150\n",
    "   ```\n",
    "\n",
    "   How many blocks the file is split into?"
   ]
  },
  {
   "cell_type": "markdown",
   "metadata": {},
   "source": [
    "**Answer:**\n",
    "\n",
    "1.\n",
    "    ```bash\n",
    "   hadoop fs -mkdir /myfolder\n",
    "   hadoop fs -copyFromLocal docker-compose.yml /myfolder/\n",
    "   hadoop fs -cat /myfolder/docker-compose.yml\n",
    "   ```\n",
    "2. \n",
    "\n",
    "3. ```bash\n",
    "    hadoop fs -copyFromLocal zeros.dat /myfolder/\n",
    "    ```"
   ]
  },
  {
   "cell_type": "markdown",
   "metadata": {},
   "source": [
    "### 4.3 Demystifying FsImage & Edits, & Checkpoint\n",
    "\n",
    "When the NameNode starts up, or a checkpoint is triggered by a configurable threshold:\n",
    "\n",
    "- It reads the FsImage and EditLog from disk.\n",
    "- It applies all the transactions from the EditLog to the in-memory representation of the FsImage.\n",
    "- It flushes out this new version into a new FsImage on disk.\n",
    "- It truncates the old EditLog because its transactions have been applied to the persistent FsImage.\n",
    "\n",
    "A checkpoint can be triggered:\n",
    "\n",
    "> at a given time interval (dfs.namenode.checkpoint.period) expressed in seconds,\n",
    "> or after a given number of filesystem transactions have accumulated (dfs.namenode.checkpoint.txns).\n",
    "\n",
    "If both of these properties are set, the first threshold to be reached triggers a checkpoint.\n",
    "\n",
    "1. Query the configuration file\n",
    "\n",
    "   - `hdfs getconf -confKey dfs.namenode.checkpoint.period`\n",
    "   - `hdfs getconf -confKey dfs.namenode.checkpoint.txns`\n",
    "   - The fsimage & edit logs location `hdfs getconf -confKey dfs.namenode.name.dir`, I get something like `file:///hadoop/dfs/name`\n",
    "   - Find the fsimage and edit logs in the `current` directory. They must be named like `fsimage_0000000000000000000` & `edits_inprogress_0000000000000000001` \n",
    "   - Output edits `hdfs oev -p xml -i /hadoop/dfs/name/current/edits_inprogress_0000000000000000001 -o edits.xml `\n",
    "   - Output fsimage `hdfs oiv -p XML -i /hadoop/dfs/name/current/fsimage_0000000000000000000 -o fsimage.xml`\n",
    "\n",
    "2. Can you make sense of the outputs?"
   ]
  },
  {
   "cell_type": "markdown",
   "metadata": {},
   "source": [
    "### 4.4 Changing Block Size (optional)\n",
    "\n",
    "As explained in the tutorials, to change HDFS configurations you edit `etc/hadoop/core-site.xml` and `etc/hadoop/hdfs-site.xml`. In the docker app, you can modify the variables in the `hadoop.env`. For example, in the following line,\n",
    "\n",
    "```bash \n",
    "# hadoop.env \n",
    "CORE_CONF_fs_defaultFS=hdfs://namenode:9000\n",
    "```\n",
    "\n",
    "`CORE_CONF` corresponds to `core-site.xml`. The second part `fs_defaultFS=hdfs://namenode:9000` will be transformed into:\n",
    "\n",
    "```xml\n",
    "<property>\n",
    "    <name>fs.defaultFS</name><\n",
    "    value>hdfs://namenode:9000\n",
    "    </value>\n",
    "</property>\n",
    "```\n",
    "\n",
    "For more details [see here](https://github.com/big-data-europe/docker-hadoop).\n",
    "\n",
    "Try changing the default block size of HDFS to see its affect on read & write performance. You can change the block size by modifying the follwoing line in `hadoop.env`: `HDFS_CONF_dfs_block_size=1048576` The value `1048576` determines the block size in bytes, which in this case is `2^20 bytes` or 1 megabytes.\n",
    "\n",
    "> **_NOTE:_** that for these configuration changes to take effect you must restart the docker app!\n",
    "\n",
    "1. Create a file with size ~150MB and uploade the file to HDFS. Check number of blocks via the Web interface. \n",
    "\n",
    "2. For each of the following block sizes 1048576, 134217728, measure the time to transfer from local to HDFS, from HDFS to local, and removing the file. \n",
    "\n",
    "You can run the following commands \n",
    "```bash\n",
    "time hadoop fs -copyFromLocal zeros.dat /myfolder/zeros.dat\n",
    "time hadoop fs -get /myfolder/zeros.dat zeros.dat\n",
    "time hadoop fs -rm /myfolder/zeros.dat\n",
    "```\n",
    "Can you make sense of the results?\n",
    "\n",
    "> **_NOTE:_** make sure to remove the files before uploading them, so that no caching will distort the measurements"
   ]
  }
 ],
 "metadata": {
  "anaconda-cloud": {},
  "kernelspec": {
   "display_name": "Python 3 (ipykernel)",
   "language": "python",
   "name": "python3"
  },
  "language_info": {
   "codemirror_mode": {
    "name": "ipython",
    "version": 3
   },
   "file_extension": ".py",
   "mimetype": "text/x-python",
   "name": "python",
   "nbconvert_exporter": "python",
   "pygments_lexer": "ipython3",
   "version": "3.7.3"
  },
  "toc-showcode": false
 },
 "nbformat": 4,
 "nbformat_minor": 4
}
